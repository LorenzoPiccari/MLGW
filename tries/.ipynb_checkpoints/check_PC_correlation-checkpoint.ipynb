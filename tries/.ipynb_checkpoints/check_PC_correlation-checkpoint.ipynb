{
 "cells": [
  {
   "cell_type": "markdown",
   "metadata": {},
   "source": [
    "#\tSome tries to check whether principal components are correlated"
   ]
  },
  {
   "cell_type": "code",
   "execution_count": 1,
   "metadata": {},
   "outputs": [],
   "source": [
    "import sys\n",
    "import lalsimulation as lalsim\n",
    "import lal\n",
    "sys.path.insert(1, '/home/stefano/Desktop/Stefano/scuola/uni/tesi_magistrale/code/routines')\n",
    "from GW_helper import *\n",
    "import matplotlib.pyplot as plt\n",
    "from ML_routines import *"
   ]
  },
  {
   "cell_type": "code",
   "execution_count": 16,
   "metadata": {},
   "outputs": [],
   "source": [
    "folder = \"GW_TD_dataset/\"\n",
    "train_theta = np.loadtxt(\"../datasets/\"+folder+\"PCA_train_theta_full.dat\")\n",
    "test_theta = np.loadtxt(\"../datasets/\"+folder+\"PCA_test_theta_full.dat\")\n",
    "PCA_train_ph = np.loadtxt(\"../datasets/\"+folder+\"PCA_train_full_ph.dat\")\n",
    "PCA_test_ph = np.loadtxt(\"../datasets/\"+folder+\"PCA_test_full_ph.dat\")\n",
    "PCA_train_amp = np.loadtxt(\"../datasets/\"+folder+\"PCA_train_full_amp.dat\")\n",
    "PCA_test_amp = np.loadtxt(\"../datasets/\"+folder+\"PCA_test_full_amp.dat\")"
   ]
  },
  {
   "cell_type": "code",
   "execution_count": 45,
   "metadata": {},
   "outputs": [
    {
     "data": {
      "image/png": "[encoded data removed]",
      "text/plain": [
       "<Figure size 432x288 with 1 Axes>"
      ]
     },
     "metadata": {
      "needs_background": "light"
     },
     "output_type": "display_data"
    }
   ],
   "source": [
    "plt.plot(test_theta[:,1],PCA_test_ph[:,3], 'o')\n",
    "plt.show()"
   ]
  },
  {
   "cell_type": "code",
   "execution_count": 23,
   "metadata": {},
   "outputs": [
    {
     "name": "stdout",
     "output_type": "stream",
     "text": [
      "[[ 4.87520659 -0.7423229  -0.38250247]\n",
      " [ 4.75060651 -0.8112561  -0.01865574]\n",
      " [ 4.97278994 -0.81271173  0.10670977]\n",
      " [ 4.58042863 -0.8163865  -0.71072592]]\n"
     ]
    }
   ],
   "source": [
    "print(test_theta[np.where(PCA_test_ph[:,3]<-0.1)])"
   ]
  },
  {
   "cell_type": "code",
   "execution_count": 68,
   "metadata": {},
   "outputs": [
    {
     "name": "stdout",
     "output_type": "stream",
     "text": [
      "(array([   0,    9,   14,   49,  270,  336,  343,  352,  738,  803,  945,\n",
      "       1111, 1173]),)\n",
      "[[[ 4.80022721 -0.80347837  0.58890782]\n",
      "  [ 4.87520659 -0.7423229  -0.38250247]\n",
      "  [ 4.81683267 -0.79571043  0.23294021]\n",
      "  [ 4.75060651 -0.8112561  -0.01865574]\n",
      "  [ 4.9741783  -0.72033456  0.05900767]\n",
      "  [ 4.78383553 -0.72720095 -0.4643835 ]\n",
      "  [ 4.78939111 -0.81192943  0.05857168]\n",
      "  [ 4.97510452 -0.74656653 -0.03467654]\n",
      "  [ 4.50909388 -0.72641477  0.77890069]\n",
      "  [ 4.6878836  -0.75756799  0.69604681]\n",
      "  [ 4.97278994 -0.81271173  0.10670977]\n",
      "  [ 4.97039741 -0.71803399  0.63867636]\n",
      "  [ 4.58042863 -0.8163865  -0.71072592]]]\n"
     ]
    }
   ],
   "source": [
    "train_indices = np.where((np.multiply(test_theta[:,1]<-0.7, test_theta[:,0]>4.5)))\n",
    "print(indices)\n",
    "print(test_theta[indices,:])"
   ]
  },
  {
   "cell_type": "code",
   "execution_count": 63,
   "metadata": {},
   "outputs": [
    {
     "name": "stdout",
     "output_type": "stream",
     "text": [
      "[4.80022721 1.78876607 2.2665763  ... 3.29358998 2.97438709 3.86345388]\n"
     ]
    }
   ],
   "source": [
    "print(test_theta[:,0])"
   ]
  },
  {
   "cell_type": "code",
   "execution_count": null,
   "metadata": {},
   "outputs": [],
   "source": []
  }
 ],
 "metadata": {
  "kernelspec": {
   "display_name": "Python 3",
   "language": "python",
   "name": "python3"
  },
  "language_info": {
   "codemirror_mode": {
    "name": "ipython",
    "version": 3
   },
   "file_extension": ".py",
   "mimetype": "text/x-python",
   "name": "python",
   "nbconvert_exporter": "python",
   "pygments_lexer": "ipython3",
   "version": "3.7.3"
  }
 },
 "nbformat": 4,
 "nbformat_minor": 2
}
